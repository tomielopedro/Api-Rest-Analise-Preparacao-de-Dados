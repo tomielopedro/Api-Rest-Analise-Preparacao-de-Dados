{
 "cells": [
  {
   "cell_type": "code",
   "id": "initial_id",
   "metadata": {
    "collapsed": true,
    "ExecuteTime": {
     "end_time": "2025-09-17T12:50:45.832739Z",
     "start_time": "2025-09-17T12:50:45.742888Z"
    }
   },
   "source": [
    "import pandas as pd\n",
    "\n",
    "df = pd.read_csv('data/resultado_links.csv')\n",
    "df = df[['link', 'nome', 'eh_pessoa', 'probabilidade']]\n",
    "df = df.drop_duplicates('link')\n",
    "df[\"id\"] = range(1, len(df) + 1)\n",
    "df = df.rename(columns={'Link':'link', 'Nome':'nome', 'É Pessoa?':'eh_pessoa', 'Probabilidade':'probabilidade'})\n",
    "df['eh_pessoa'] = df['eh_pessoa'].apply(lambda x: True if x=='Não' else False)\n",
    "df.to_csv('data/resultado_links.csv', index=False)"
   ],
   "outputs": [],
   "execution_count": 24
  },
  {
   "metadata": {
    "ExecuteTime": {
     "end_time": "2025-09-17T12:50:46.951299Z",
     "start_time": "2025-09-17T12:50:46.935854Z"
    }
   },
   "cell_type": "code",
   "source": "df",
   "id": "757d347809c90446",
   "outputs": [
    {
     "data": {
      "text/plain": [
       "                                                 link  \\\n",
       "0                  https://pt.wikipedia.org/wiki/Aves   \n",
       "1     https://pt.wikipedia.org/wiki/Lista_supraciliar   \n",
       "2   https://pt.wikipedia.org/wiki/Mascarenhas_de_M...   \n",
       "3               https://pt.wikipedia.org/wiki/Formiga   \n",
       "4   https://pt.wikipedia.org/wiki/Conte%C3%BAdo_livre   \n",
       "..                                                ...   \n",
       "95  https://pt.wikipedia.org/wiki/Ant%C3%B4nio_Car...   \n",
       "96  https://pt.wikipedia.org/wiki/Xarope_de_chocolate   \n",
       "97           https://pt.wikipedia.org/wiki/Caixa_dois   \n",
       "98  https://pt.wikipedia.org/wiki/Joaquim_Jos%C3%A...   \n",
       "99         https://pt.wikipedia.org/wiki/Edson_Santos   \n",
       "\n",
       "                                         nome  eh_pessoa  probabilidade   id  \n",
       "0                                        Aves      False           0.00    1  \n",
       "1                           Lista_supraciliar      False           0.00    2  \n",
       "2                       Mascarenhas_de_Morais      False           0.83    3  \n",
       "3                                     Formiga      False           0.00    4  \n",
       "4                         Conte%C3%BAdo_livre      False           0.00    5  \n",
       "..                                        ...        ...            ...  ...  \n",
       "95            Ant%C3%B4nio_Carneiro_Le%C3%A3o      False           1.00   96  \n",
       "96                        Xarope_de_chocolate      False           0.00   97  \n",
       "97                                 Caixa_dois      False           0.00   98  \n",
       "98  Joaquim_Jos%C3%A9_Pinheiro_de_Vasconcelos      False           0.67   99  \n",
       "99                               Edson_Santos      False           0.67  100  \n",
       "\n",
       "[100 rows x 5 columns]"
      ],
      "text/html": [
       "<div>\n",
       "<style scoped>\n",
       "    .dataframe tbody tr th:only-of-type {\n",
       "        vertical-align: middle;\n",
       "    }\n",
       "\n",
       "    .dataframe tbody tr th {\n",
       "        vertical-align: top;\n",
       "    }\n",
       "\n",
       "    .dataframe thead th {\n",
       "        text-align: right;\n",
       "    }\n",
       "</style>\n",
       "<table border=\"1\" class=\"dataframe\">\n",
       "  <thead>\n",
       "    <tr style=\"text-align: right;\">\n",
       "      <th></th>\n",
       "      <th>link</th>\n",
       "      <th>nome</th>\n",
       "      <th>eh_pessoa</th>\n",
       "      <th>probabilidade</th>\n",
       "      <th>id</th>\n",
       "    </tr>\n",
       "  </thead>\n",
       "  <tbody>\n",
       "    <tr>\n",
       "      <th>0</th>\n",
       "      <td>https://pt.wikipedia.org/wiki/Aves</td>\n",
       "      <td>Aves</td>\n",
       "      <td>False</td>\n",
       "      <td>0.00</td>\n",
       "      <td>1</td>\n",
       "    </tr>\n",
       "    <tr>\n",
       "      <th>1</th>\n",
       "      <td>https://pt.wikipedia.org/wiki/Lista_supraciliar</td>\n",
       "      <td>Lista_supraciliar</td>\n",
       "      <td>False</td>\n",
       "      <td>0.00</td>\n",
       "      <td>2</td>\n",
       "    </tr>\n",
       "    <tr>\n",
       "      <th>2</th>\n",
       "      <td>https://pt.wikipedia.org/wiki/Mascarenhas_de_M...</td>\n",
       "      <td>Mascarenhas_de_Morais</td>\n",
       "      <td>False</td>\n",
       "      <td>0.83</td>\n",
       "      <td>3</td>\n",
       "    </tr>\n",
       "    <tr>\n",
       "      <th>3</th>\n",
       "      <td>https://pt.wikipedia.org/wiki/Formiga</td>\n",
       "      <td>Formiga</td>\n",
       "      <td>False</td>\n",
       "      <td>0.00</td>\n",
       "      <td>4</td>\n",
       "    </tr>\n",
       "    <tr>\n",
       "      <th>4</th>\n",
       "      <td>https://pt.wikipedia.org/wiki/Conte%C3%BAdo_livre</td>\n",
       "      <td>Conte%C3%BAdo_livre</td>\n",
       "      <td>False</td>\n",
       "      <td>0.00</td>\n",
       "      <td>5</td>\n",
       "    </tr>\n",
       "    <tr>\n",
       "      <th>...</th>\n",
       "      <td>...</td>\n",
       "      <td>...</td>\n",
       "      <td>...</td>\n",
       "      <td>...</td>\n",
       "      <td>...</td>\n",
       "    </tr>\n",
       "    <tr>\n",
       "      <th>95</th>\n",
       "      <td>https://pt.wikipedia.org/wiki/Ant%C3%B4nio_Car...</td>\n",
       "      <td>Ant%C3%B4nio_Carneiro_Le%C3%A3o</td>\n",
       "      <td>False</td>\n",
       "      <td>1.00</td>\n",
       "      <td>96</td>\n",
       "    </tr>\n",
       "    <tr>\n",
       "      <th>96</th>\n",
       "      <td>https://pt.wikipedia.org/wiki/Xarope_de_chocolate</td>\n",
       "      <td>Xarope_de_chocolate</td>\n",
       "      <td>False</td>\n",
       "      <td>0.00</td>\n",
       "      <td>97</td>\n",
       "    </tr>\n",
       "    <tr>\n",
       "      <th>97</th>\n",
       "      <td>https://pt.wikipedia.org/wiki/Caixa_dois</td>\n",
       "      <td>Caixa_dois</td>\n",
       "      <td>False</td>\n",
       "      <td>0.00</td>\n",
       "      <td>98</td>\n",
       "    </tr>\n",
       "    <tr>\n",
       "      <th>98</th>\n",
       "      <td>https://pt.wikipedia.org/wiki/Joaquim_Jos%C3%A...</td>\n",
       "      <td>Joaquim_Jos%C3%A9_Pinheiro_de_Vasconcelos</td>\n",
       "      <td>False</td>\n",
       "      <td>0.67</td>\n",
       "      <td>99</td>\n",
       "    </tr>\n",
       "    <tr>\n",
       "      <th>99</th>\n",
       "      <td>https://pt.wikipedia.org/wiki/Edson_Santos</td>\n",
       "      <td>Edson_Santos</td>\n",
       "      <td>False</td>\n",
       "      <td>0.67</td>\n",
       "      <td>100</td>\n",
       "    </tr>\n",
       "  </tbody>\n",
       "</table>\n",
       "<p>100 rows × 5 columns</p>\n",
       "</div>"
      ]
     },
     "execution_count": 25,
     "metadata": {},
     "output_type": "execute_result"
    }
   ],
   "execution_count": 25
  },
  {
   "metadata": {
    "ExecuteTime": {
     "end_time": "2025-09-15T13:34:30.258380Z",
     "start_time": "2025-09-15T13:34:30.255767Z"
    }
   },
   "cell_type": "code",
   "source": [
    "from dataclasses import dataclass, asdict\n",
    "import json\n",
    "@dataclass\n",
    "class Pessoa:\n",
    "    link: str\n",
    "    nome: str\n",
    "    eh_pessoa: bool\n",
    "    probabilidade: float\n",
    "    \n",
    "    def to_json(self) -> str:\n",
    "        return json.dumps(asdict(self), ensure_ascii=False)"
   ],
   "id": "d4875777b5e03b9a",
   "outputs": [],
   "execution_count": 15
  },
  {
   "metadata": {
    "ExecuteTime": {
     "end_time": "2025-09-15T13:34:30.669387Z",
     "start_time": "2025-09-15T13:34:30.666002Z"
    }
   },
   "cell_type": "code",
   "source": "pessoas = [Pessoa(**row).to_json() for row in df.to_dict(orient=\"records\")]",
   "id": "75eff531b1282ebb",
   "outputs": [],
   "execution_count": 16
  },
  {
   "metadata": {
    "ExecuteTime": {
     "end_time": "2025-09-15T13:34:36.588436Z",
     "start_time": "2025-09-15T13:34:36.586155Z"
    }
   },
   "cell_type": "code",
   "source": "pessoas[0]",
   "id": "5db8f615bd6a981",
   "outputs": [
    {
     "data": {
      "text/plain": [
       "'{\"link\": \"https://pt.wikipedia.org/wiki/Aves\", \"nome\": \"Aves\", \"eh_pessoa\": 0, \"probabilidade\": 0.0}'"
      ]
     },
     "execution_count": 17,
     "metadata": {},
     "output_type": "execute_result"
    }
   ],
   "execution_count": 17
  },
  {
   "metadata": {
    "ExecuteTime": {
     "end_time": "2025-09-17T22:58:59.589289Z",
     "start_time": "2025-09-17T22:58:59.586528Z"
    }
   },
   "cell_type": "code",
   "source": [
    "\n",
    "\n",
    "def meu_hash(key):\n",
    "    if key=='jao' or key =='pedro':\n",
    "        return 0\n",
    "    \n",
    "    elif key=='fred':\n",
    "        return 4\n",
    "    elif key==\"ighor\" or \"carolina\":\n",
    "        return 2\n",
    "\n",
    "    else:\n",
    "        return len(tabela_hash)-1\n",
    "    \n"
   ],
   "id": "3bd05afa1e3ba57f",
   "outputs": [],
   "execution_count": 44
  },
  {
   "metadata": {
    "ExecuteTime": {
     "end_time": "2025-09-17T22:59:00.101994Z",
     "start_time": "2025-09-17T22:59:00.099100Z"
    }
   },
   "cell_type": "code",
   "source": [
    "# encadeamento separado \n",
    "tabela_hash = [[ ['jao', 333], ['pedro', 777] ], [], [], [], [['fred', 666]]]\n",
    "\n",
    "def get(key):\n",
    "    indice = meu_hash(key)\n",
    "    \n",
    "    for entrada in tabela_hash[indice]:\n",
    "        if key==entrada[0]:\n",
    "            return entrada[1]\n",
    "    return None\n",
    "    \n",
    "\n",
    "print(get('ighor'))\n",
    "\n",
    "def insert(key, valor):\n",
    "    indice = meu_hash(key)\n",
    "    print(indice)\n",
    "    for entrada in tabela_hash[indice]:\n",
    "        if key==entrada[0]:\n",
    "            entrada[1] = valor\n",
    "            return \n",
    "    tabela_hash[indice].append([key, valor])\n",
    "    \n",
    "insert('ighor', 888)\n",
    "print(tabela_hash)\n",
    "insert('ighor', 999)\n",
    "insert('carolina', 555)\n",
    "print(tabela_hash)\n",
    "\n",
    "def delete(key):\n",
    "    indice = meu_hash(key)\n",
    "    for entrada in tabela_hash[indice]:\n",
    "        if key==entrada[0]:\n",
    "            tabela_hash[indice].remove(entrada)\n",
    "print(tabela_hash)\n",
    "\n",
    "delete('carolina')\n",
    "print(tabela_hash)\n",
    "\n"
   ],
   "id": "1deb6d0e07147cab",
   "outputs": [
    {
     "name": "stdout",
     "output_type": "stream",
     "text": [
      "None\n"
     ]
    }
   ],
   "execution_count": 45
  },
  {
   "metadata": {
    "ExecuteTime": {
     "end_time": "2025-09-17T22:59:00.608930Z",
     "start_time": "2025-09-17T22:59:00.604042Z"
    }
   },
   "cell_type": "code",
   "source": [
    "def insert(key, valor):\n",
    "    indice = meu_hash(key)\n",
    "    print(indice)\n",
    "    for entrada in tabela_hash[indice]:\n",
    "        if key==entrada[0]:\n",
    "            entrada[1] = valor\n",
    "            return \n",
    "    tabela_hash[indice].append([key, valor])\n",
    "    \n",
    "insert('ighor', 888)\n",
    "print(tabela_hash)\n",
    "insert('ighor', 999)\n",
    "insert('carolina', 555)\n",
    "print(tabela_hash)\n"
   ],
   "id": "91069bb7cbfaa47d",
   "outputs": [
    {
     "name": "stdout",
     "output_type": "stream",
     "text": [
      "2\n",
      "[[['jao', 333], ['pedro', 777]], [], [['ighor', 888]], [], [['fred', 666]]]\n",
      "2\n",
      "2\n",
      "[[['jao', 333], ['pedro', 777]], [], [['ighor', 999], ['carolina', 555]], [], [['fred', 666]]]\n"
     ]
    }
   ],
   "execution_count": 46
  },
  {
   "metadata": {
    "ExecuteTime": {
     "end_time": "2025-09-17T22:59:04.971293Z",
     "start_time": "2025-09-17T22:59:04.969234Z"
    }
   },
   "cell_type": "code",
   "source": "get('serjao')",
   "id": "b57033299b204983",
   "outputs": [],
   "execution_count": 47
  },
  {
   "metadata": {
    "ExecuteTime": {
     "end_time": "2025-09-17T22:59:08.610082Z",
     "start_time": "2025-09-17T22:59:08.607013Z"
    }
   },
   "cell_type": "code",
   "source": [
    "def delete(key):\n",
    "    indice = meu_hash(key)\n",
    "    for entrada in tabela_hash[indice]:\n",
    "        if key==entrada[0]:\n",
    "            tabela_hash[indice].remove(entrada)\n",
    "print(tabela_hash)\n",
    "\n",
    "delete('carolina')\n",
    "print(tabela_hash)\n",
    "'110 001 011'\n",
    "[[110], [001], [011]]\n"
   ],
   "id": "508ab63b1ed1e732",
   "outputs": [
    {
     "name": "stdout",
     "output_type": "stream",
     "text": [
      "[[['jao', 333], ['pedro', 777]], [], [['ighor', 999], ['carolina', 555]], [], [['fred', 666]]]\n",
      "[[['jao', 333], ['pedro', 777]], [], [['ighor', 999]], [], [['fred', 666]]]\n"
     ]
    }
   ],
   "execution_count": 48
  },
  {
   "metadata": {
    "ExecuteTime": {
     "end_time": "2025-09-17T23:01:05.118901Z",
     "start_time": "2025-09-17T23:01:05.110259Z"
    }
   },
   "cell_type": "code",
   "source": [
    "# Tabela hash usando encadeamento separado\n",
    "tabela_hash = [\n",
    "    [['jao', 333], ['pedro', 777]],\n",
    "    [],\n",
    "    [],\n",
    "    [],\n",
    "    [['fred', 666]]\n",
    "]\n",
    "\n",
    "# Função hash simples (para exemplo, baseado no tamanho da string)\n",
    "def meu_hash(key):\n",
    "    return sum(ord(c) for c in key) % len(tabela_hash)\n",
    "\n",
    "# Função para buscar um valor pelo key\n",
    "def get(key):\n",
    "    indice = meu_hash(key)\n",
    "    for entrada in tabela_hash[indice]:\n",
    "        if key == entrada[0]:\n",
    "            return entrada[1]\n",
    "    return None\n",
    "\n",
    "# Função para inserir ou atualizar\n",
    "def insert(key, valor):\n",
    "    indice = meu_hash(key)\n",
    "    for entrada in tabela_hash[indice]:\n",
    "        if key == entrada[0]:\n",
    "            entrada[1] = valor\n",
    "            print(f\"Atualizado: {key} -> {valor} no índice {indice}\")\n",
    "            return\n",
    "    tabela_hash[indice].append([key, valor])\n",
    "    print(f\"Inserido: {key} -> {valor} no índice {indice}\")\n",
    "\n",
    "# Função para deletar\n",
    "def delete(key):\n",
    "    indice = meu_hash(key)\n",
    "    for entrada in tabela_hash[indice]:\n",
    "        if key == entrada[0]:\n",
    "            tabela_hash[indice].remove(entrada)\n",
    "            print(f\"Removido: {key} do índice {indice}\")\n",
    "            return\n",
    "    print(f\"Chave {key} não encontrada para remoção\")\n",
    "\n",
    "# Testes\n",
    "print(\"Valor de 'ighor':\", get('ighor'))  # Nenhum valor ainda\n",
    "\n",
    "insert('ighor', 888)\n",
    "insert('ighor', 999)   # Atualiza\n",
    "insert('carolina', 555)\n",
    "\n",
    "print(\"\\nTabela Hash Atualizada:\")\n",
    "for i, bucket in enumerate(tabela_hash):\n",
    "    print(f\"{i}: {bucket}\")\n",
    "\n",
    "delete('carolina')\n",
    "\n",
    "print(\"\\nTabela Hash Após Remoção:\")\n",
    "for i, bucket in enumerate(tabela_hash):\n",
    "    print(f\"{i}: {bucket}\")\n"
   ],
   "id": "818e39fcc212cd58",
   "outputs": [
    {
     "name": "stdout",
     "output_type": "stream",
     "text": [
      "Valor de 'ighor': None\n",
      "Inserido: ighor -> 888 no índice 2\n",
      "Atualizado: ighor -> 999 no índice 2\n",
      "Inserido: carolina -> 555 no índice 1\n",
      "\n",
      "Tabela Hash Atualizada:\n",
      "0: [['jao', 333], ['pedro', 777]]\n",
      "1: [['carolina', 555]]\n",
      "2: [['ighor', 999]]\n",
      "3: []\n",
      "4: [['fred', 666]]\n",
      "Removido: carolina do índice 1\n",
      "\n",
      "Tabela Hash Após Remoção:\n",
      "0: [['jao', 333], ['pedro', 777]]\n",
      "1: []\n",
      "2: [['ighor', 999]]\n",
      "3: []\n",
      "4: [['fred', 666]]\n"
     ]
    }
   ],
   "execution_count": 49
  },
  {
   "metadata": {},
   "cell_type": "code",
   "outputs": [],
   "execution_count": null,
   "source": "",
   "id": "36d84b1db79732ad"
  }
 ],
 "metadata": {
  "kernelspec": {
   "display_name": "Python 3",
   "language": "python",
   "name": "python3"
  },
  "language_info": {
   "codemirror_mode": {
    "name": "ipython",
    "version": 2
   },
   "file_extension": ".py",
   "mimetype": "text/x-python",
   "name": "python",
   "nbconvert_exporter": "python",
   "pygments_lexer": "ipython2",
   "version": "2.7.6"
  }
 },
 "nbformat": 4,
 "nbformat_minor": 5
}
