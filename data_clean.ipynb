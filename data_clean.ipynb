{
 "cells": [
  {
   "cell_type": "code",
   "id": "initial_id",
   "metadata": {
    "collapsed": true,
    "ExecuteTime": {
     "end_time": "2025-09-17T12:50:45.832739Z",
     "start_time": "2025-09-17T12:50:45.742888Z"
    }
   },
   "source": [
    "import pandas as pd\n",
    "\n",
    "df = pd.read_csv('data/resultado_links.csv')\n",
    "df = df[['link', 'nome', 'eh_pessoa', 'probabilidade']]\n",
    "df = df.drop_duplicates('link')\n",
    "df[\"id\"] = range(1, len(df) + 1)\n",
    "df = df.rename(columns={'Link':'link', 'Nome':'nome', 'É Pessoa?':'eh_pessoa', 'Probabilidade':'probabilidade'})\n",
    "df['eh_pessoa'] = df['eh_pessoa'].apply(lambda x: True if x=='Não' else False)\n",
    "df.to_csv('data/resultado_links.csv', index=False)"
   ],
   "outputs": [],
   "execution_count": 24
  },
  {
   "metadata": {
    "ExecuteTime": {
     "end_time": "2025-09-17T12:50:46.951299Z",
     "start_time": "2025-09-17T12:50:46.935854Z"
    }
   },
   "cell_type": "code",
   "source": "df",
   "id": "757d347809c90446",
   "outputs": [
    {
     "data": {
      "text/plain": [
       "                                                 link  \\\n",
       "0                  https://pt.wikipedia.org/wiki/Aves   \n",
       "1     https://pt.wikipedia.org/wiki/Lista_supraciliar   \n",
       "2   https://pt.wikipedia.org/wiki/Mascarenhas_de_M...   \n",
       "3               https://pt.wikipedia.org/wiki/Formiga   \n",
       "4   https://pt.wikipedia.org/wiki/Conte%C3%BAdo_livre   \n",
       "..                                                ...   \n",
       "95  https://pt.wikipedia.org/wiki/Ant%C3%B4nio_Car...   \n",
       "96  https://pt.wikipedia.org/wiki/Xarope_de_chocolate   \n",
       "97           https://pt.wikipedia.org/wiki/Caixa_dois   \n",
       "98  https://pt.wikipedia.org/wiki/Joaquim_Jos%C3%A...   \n",
       "99         https://pt.wikipedia.org/wiki/Edson_Santos   \n",
       "\n",
       "                                         nome  eh_pessoa  probabilidade   id  \n",
       "0                                        Aves      False           0.00    1  \n",
       "1                           Lista_supraciliar      False           0.00    2  \n",
       "2                       Mascarenhas_de_Morais      False           0.83    3  \n",
       "3                                     Formiga      False           0.00    4  \n",
       "4                         Conte%C3%BAdo_livre      False           0.00    5  \n",
       "..                                        ...        ...            ...  ...  \n",
       "95            Ant%C3%B4nio_Carneiro_Le%C3%A3o      False           1.00   96  \n",
       "96                        Xarope_de_chocolate      False           0.00   97  \n",
       "97                                 Caixa_dois      False           0.00   98  \n",
       "98  Joaquim_Jos%C3%A9_Pinheiro_de_Vasconcelos      False           0.67   99  \n",
       "99                               Edson_Santos      False           0.67  100  \n",
       "\n",
       "[100 rows x 5 columns]"
      ],
      "text/html": [
       "<div>\n",
       "<style scoped>\n",
       "    .dataframe tbody tr th:only-of-type {\n",
       "        vertical-align: middle;\n",
       "    }\n",
       "\n",
       "    .dataframe tbody tr th {\n",
       "        vertical-align: top;\n",
       "    }\n",
       "\n",
       "    .dataframe thead th {\n",
       "        text-align: right;\n",
       "    }\n",
       "</style>\n",
       "<table border=\"1\" class=\"dataframe\">\n",
       "  <thead>\n",
       "    <tr style=\"text-align: right;\">\n",
       "      <th></th>\n",
       "      <th>link</th>\n",
       "      <th>nome</th>\n",
       "      <th>eh_pessoa</th>\n",
       "      <th>probabilidade</th>\n",
       "      <th>id</th>\n",
       "    </tr>\n",
       "  </thead>\n",
       "  <tbody>\n",
       "    <tr>\n",
       "      <th>0</th>\n",
       "      <td>https://pt.wikipedia.org/wiki/Aves</td>\n",
       "      <td>Aves</td>\n",
       "      <td>False</td>\n",
       "      <td>0.00</td>\n",
       "      <td>1</td>\n",
       "    </tr>\n",
       "    <tr>\n",
       "      <th>1</th>\n",
       "      <td>https://pt.wikipedia.org/wiki/Lista_supraciliar</td>\n",
       "      <td>Lista_supraciliar</td>\n",
       "      <td>False</td>\n",
       "      <td>0.00</td>\n",
       "      <td>2</td>\n",
       "    </tr>\n",
       "    <tr>\n",
       "      <th>2</th>\n",
       "      <td>https://pt.wikipedia.org/wiki/Mascarenhas_de_M...</td>\n",
       "      <td>Mascarenhas_de_Morais</td>\n",
       "      <td>False</td>\n",
       "      <td>0.83</td>\n",
       "      <td>3</td>\n",
       "    </tr>\n",
       "    <tr>\n",
       "      <th>3</th>\n",
       "      <td>https://pt.wikipedia.org/wiki/Formiga</td>\n",
       "      <td>Formiga</td>\n",
       "      <td>False</td>\n",
       "      <td>0.00</td>\n",
       "      <td>4</td>\n",
       "    </tr>\n",
       "    <tr>\n",
       "      <th>4</th>\n",
       "      <td>https://pt.wikipedia.org/wiki/Conte%C3%BAdo_livre</td>\n",
       "      <td>Conte%C3%BAdo_livre</td>\n",
       "      <td>False</td>\n",
       "      <td>0.00</td>\n",
       "      <td>5</td>\n",
       "    </tr>\n",
       "    <tr>\n",
       "      <th>...</th>\n",
       "      <td>...</td>\n",
       "      <td>...</td>\n",
       "      <td>...</td>\n",
       "      <td>...</td>\n",
       "      <td>...</td>\n",
       "    </tr>\n",
       "    <tr>\n",
       "      <th>95</th>\n",
       "      <td>https://pt.wikipedia.org/wiki/Ant%C3%B4nio_Car...</td>\n",
       "      <td>Ant%C3%B4nio_Carneiro_Le%C3%A3o</td>\n",
       "      <td>False</td>\n",
       "      <td>1.00</td>\n",
       "      <td>96</td>\n",
       "    </tr>\n",
       "    <tr>\n",
       "      <th>96</th>\n",
       "      <td>https://pt.wikipedia.org/wiki/Xarope_de_chocolate</td>\n",
       "      <td>Xarope_de_chocolate</td>\n",
       "      <td>False</td>\n",
       "      <td>0.00</td>\n",
       "      <td>97</td>\n",
       "    </tr>\n",
       "    <tr>\n",
       "      <th>97</th>\n",
       "      <td>https://pt.wikipedia.org/wiki/Caixa_dois</td>\n",
       "      <td>Caixa_dois</td>\n",
       "      <td>False</td>\n",
       "      <td>0.00</td>\n",
       "      <td>98</td>\n",
       "    </tr>\n",
       "    <tr>\n",
       "      <th>98</th>\n",
       "      <td>https://pt.wikipedia.org/wiki/Joaquim_Jos%C3%A...</td>\n",
       "      <td>Joaquim_Jos%C3%A9_Pinheiro_de_Vasconcelos</td>\n",
       "      <td>False</td>\n",
       "      <td>0.67</td>\n",
       "      <td>99</td>\n",
       "    </tr>\n",
       "    <tr>\n",
       "      <th>99</th>\n",
       "      <td>https://pt.wikipedia.org/wiki/Edson_Santos</td>\n",
       "      <td>Edson_Santos</td>\n",
       "      <td>False</td>\n",
       "      <td>0.67</td>\n",
       "      <td>100</td>\n",
       "    </tr>\n",
       "  </tbody>\n",
       "</table>\n",
       "<p>100 rows × 5 columns</p>\n",
       "</div>"
      ]
     },
     "execution_count": 25,
     "metadata": {},
     "output_type": "execute_result"
    }
   ],
   "execution_count": 25
  },
  {
   "metadata": {
    "ExecuteTime": {
     "end_time": "2025-09-15T13:34:30.258380Z",
     "start_time": "2025-09-15T13:34:30.255767Z"
    }
   },
   "cell_type": "code",
   "source": [
    "from dataclasses import dataclass, asdict\n",
    "import json\n",
    "@dataclass\n",
    "class Pessoa:\n",
    "    link: str\n",
    "    nome: str\n",
    "    eh_pessoa: bool\n",
    "    probabilidade: float\n",
    "    \n",
    "    def to_json(self) -> str:\n",
    "        return json.dumps(asdict(self), ensure_ascii=False)"
   ],
   "id": "d4875777b5e03b9a",
   "outputs": [],
   "execution_count": 15
  },
  {
   "metadata": {
    "ExecuteTime": {
     "end_time": "2025-09-15T13:34:30.669387Z",
     "start_time": "2025-09-15T13:34:30.666002Z"
    }
   },
   "cell_type": "code",
   "source": "pessoas = [Pessoa(**row).to_json() for row in df.to_dict(orient=\"records\")]",
   "id": "75eff531b1282ebb",
   "outputs": [],
   "execution_count": 16
  },
  {
   "metadata": {
    "ExecuteTime": {
     "end_time": "2025-09-15T13:34:36.588436Z",
     "start_time": "2025-09-15T13:34:36.586155Z"
    }
   },
   "cell_type": "code",
   "source": "pessoas[0]",
   "id": "5db8f615bd6a981",
   "outputs": [
    {
     "data": {
      "text/plain": [
       "'{\"link\": \"https://pt.wikipedia.org/wiki/Aves\", \"nome\": \"Aves\", \"eh_pessoa\": 0, \"probabilidade\": 0.0}'"
      ]
     },
     "execution_count": 17,
     "metadata": {},
     "output_type": "execute_result"
    }
   ],
   "execution_count": 17
  },
  {
   "metadata": {},
   "cell_type": "code",
   "outputs": [],
   "execution_count": null,
   "source": "",
   "id": "3bd05afa1e3ba57f"
  }
 ],
 "metadata": {
  "kernelspec": {
   "display_name": "Python 3",
   "language": "python",
   "name": "python3"
  },
  "language_info": {
   "codemirror_mode": {
    "name": "ipython",
    "version": 2
   },
   "file_extension": ".py",
   "mimetype": "text/x-python",
   "name": "python",
   "nbconvert_exporter": "python",
   "pygments_lexer": "ipython2",
   "version": "2.7.6"
  }
 },
 "nbformat": 4,
 "nbformat_minor": 5
}
