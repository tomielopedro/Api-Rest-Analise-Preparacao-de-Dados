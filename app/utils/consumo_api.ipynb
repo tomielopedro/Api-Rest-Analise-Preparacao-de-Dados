{
 "cells": [
  {
   "cell_type": "markdown",
   "id": "d73f7445",
   "metadata": {},
   "source": [
    "# ***Tarefa 2 – Consumo de APIs Restful (30%)***\n",
    "***Nomes:*** *Pedro Tomielo, Ighor Tales, João Luz, Fred Franke*\n",
    "- Essa etapa consiste na criação de um script Python que consuma a API criada na etapa 1.\n",
    "- Para executar essa etapa do trabalho o grupo deve:\n",
    "\n",
    "    - **(a)** Criar e exportar uma coleção no Postman contendo exemplos de requisições para\n",
    "cada uma das funcionalidades da API Rest.\n",
    "\n",
    "    - **(b)** Implementar as chamadas para cada funcionalidade da API em um script Python."
   ]
  },
  {
   "cell_type": "markdown",
   "id": "42682d27",
   "metadata": {},
   "source": [
    "## Bibliotecas\n",
    "    - Bibliotecas Utilizadas\n",
    "    - Conf. Iniciais"
   ]
  },
  {
   "cell_type": "code",
   "execution_count": null,
   "id": "5b590894",
   "metadata": {},
   "outputs": [],
   "source": [
    "import requests\n",
    "import pandas as pd\n",
    "import json\n",
    "from IPython.display import display, Markdown\n",
    "\n",
    "# URL base da API Flask do grupo\n",
    "BASE_URL = \"http://127.0.0.1:5000\""
   ]
  },
  {
   "cell_type": "markdown",
   "id": "176ad24b",
   "metadata": {},
   "source": [
    "### Função 1 — Listar as N primeiras séries\n",
    "    - Função para consumir a API e listar as series"
   ]
  },
  {
   "cell_type": "code",
   "execution_count": null,
   "id": "435c7b5a",
   "metadata": {},
   "outputs": [],
   "source": [
    "def listar_series(qtd=5):\n",
    "    url = f\"{BASE_URL}/series/{qtd}/\"\n",
    "    resposta = requests.get(url)\n",
    "\n",
    "    if resposta.status_code == 200:\n",
    "        dados = resposta.json()\n",
    "        df = pd.DataFrame(dados)\n",
    "        display(Markdown(f\"### {qtd} Primeiras Séries\"))\n",
    "        display(df)\n",
    "    else:\n",
    "        print(\"Erro ao consultar API:\", resposta.status_code)"
   ]
  },
  {
   "cell_type": "markdown",
   "id": "03ba2bce",
   "metadata": {},
   "source": [
    "### Função 2 — Buscar uma série por ID\n",
    "    - Função para consumir a API e retornar a serie especifica(id_serie) se houver"
   ]
  },
  {
   "cell_type": "code",
   "execution_count": null,
   "id": "74cc58c6",
   "metadata": {},
   "outputs": [],
   "source": [
    "def buscar_por_id(id_serie):\n",
    "    url = f\"{BASE_URL}/series-id/{id_serie}/\"\n",
    "    resposta = requests.get(url)\n",
    "\n",
    "    if resposta.status_code == 200:\n",
    "        dados = resposta.json()\n",
    "        display(Markdown(f\"### Série com ID {id_serie}\"))\n",
    "        display(pd.DataFrame([dados]))\n",
    "    else:\n",
    "        display(Markdown(f\"Série com ID {id_serie} não encontrada.\"))"
   ]
  },
  {
   "cell_type": "markdown",
   "id": "6cc7014c",
   "metadata": {},
   "source": [
    "### Função 3 — Testar envio de JSON (rota /filtro)\n",
    "    Função para consumir a API e retornar as series com aplicação de filtros"
   ]
  },
  {
   "cell_type": "code",
   "execution_count": null,
   "id": "179b7b19",
   "metadata": {},
   "outputs": [],
   "source": [
    "def listar_series_filtro(nome, idade):\n",
    "    url = f\"{BASE_URL}/filtro\"\n",
    "    payload = {\"nome\": nome, \"idade\": idade}\n",
    "    resposta = requests.post(url, json=payload)\n",
    "\n",
    "    display(Markdown(\"### Resultado do envio de JSON:\"))\n",
    "    print(json.dumps(resposta.json(), indent=2, ensure_ascii=False))"
   ]
  },
  {
   "cell_type": "markdown",
   "id": "98807ca3",
   "metadata": {},
   "source": [
    "## (Placeholders) Funções para *Inserir, Atualizar e Deletar*"
   ]
  },
  {
   "cell_type": "markdown",
   "id": "aba6c329",
   "metadata": {},
   "source": [
    "*Tem que esperar a primeira parte terminar*"
   ]
  },
  {
   "cell_type": "code",
   "execution_count": null,
   "id": "bb83fdb8",
   "metadata": {},
   "outputs": [],
   "source": [
    "# Inserção\n",
    "def inserir_serie(dados):\n",
    "    url = f\"{BASE_URL}/series/\"\n",
    "    resposta = requests.post(url, json=dados)\n",
    "    print(\"✅ Série adicionada:\")\n",
    "    print(json.dumps(resposta.json(), indent=2, ensure_ascii=False))"
   ]
  },
  {
   "cell_type": "code",
   "execution_count": null,
   "id": "a97b59aa",
   "metadata": {},
   "outputs": [],
   "source": [
    "# Atualização\n",
    "def atualizar_serie(id_serie, novos_dados):\n",
    "    url = f\"{BASE_URL}/series/{id_serie}/\"\n",
    "    resposta = requests.put(url, json=novos_dados)\n",
    "    print(\"♻️ Série atualizada:\")\n",
    "    print(json.dumps(resposta.json(), indent=2, ensure_ascii=False))"
   ]
  },
  {
   "cell_type": "code",
   "execution_count": null,
   "id": "7719800a",
   "metadata": {},
   "outputs": [],
   "source": [
    "# Exclusão\n",
    "def deletar_serie(id_serie):\n",
    "    url = f\"{BASE_URL}/series/{id_serie}/\"\n",
    "    resposta = requests.delete(url)\n",
    "    print(\"🗑️ Resultado da exclusão:\")\n",
    "    print(json.dumps(resposta.json(), indent=2, ensure_ascii=False))"
   ]
  }
 ],
 "metadata": {
  "kernelspec": {
   "display_name": "dev",
   "language": "python",
   "name": "python3"
  },
  "language_info": {
   "name": "python",
   "version": "3.13.5"
  }
 },
 "nbformat": 4,
 "nbformat_minor": 5
}
