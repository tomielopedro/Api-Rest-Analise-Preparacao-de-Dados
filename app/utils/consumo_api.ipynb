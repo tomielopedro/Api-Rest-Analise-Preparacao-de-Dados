{
 "cells": [
  {
   "cell_type": "markdown",
   "id": "d73f7445",
   "metadata": {},
   "source": "# ***Tarefa 2 – Consumo de APIs Restful***\n"
  },
  {
   "cell_type": "code",
   "id": "5b590894",
   "metadata": {
    "ExecuteTime": {
     "end_time": "2025-10-19T23:38:14.497832Z",
     "start_time": "2025-10-19T23:38:14.494263Z"
    }
   },
   "source": [
    "import requests\n",
    "import json\n",
    "\n",
    "BASE_URL = \"http://127.0.0.1:5000\""
   ],
   "outputs": [],
   "execution_count": 179
  },
  {
   "metadata": {},
   "cell_type": "markdown",
   "source": "# 1. Listar uma quantidade específica de séries",
   "id": "89f4a0031d4a1d53"
  },
  {
   "cell_type": "code",
   "id": "435c7b5a",
   "metadata": {
    "ExecuteTime": {
     "end_time": "2025-10-19T23:38:14.542948Z",
     "start_time": "2025-10-19T23:38:14.541005Z"
    }
   },
   "source": [
    "def listar_series(qtd: int):\n",
    "    url = f\"{BASE_URL}/series/{qtd}/\"\n",
    "    try:\n",
    "        resp = requests.get(url)\n",
    "        resp.raise_for_status()\n",
    "        return resp.json()\n",
    "    except requests.exceptions.RequestException as e:\n",
    "        return {\"erro\": str(e)}"
   ],
   "outputs": [],
   "execution_count": 180
  },
  {
   "cell_type": "markdown",
   "id": "03ba2bce",
   "metadata": {},
   "source": "# 2. Buscar série por ID"
  },
  {
   "cell_type": "code",
   "id": "74cc58c6",
   "metadata": {
    "ExecuteTime": {
     "end_time": "2025-10-19T23:38:14.545828Z",
     "start_time": "2025-10-19T23:38:14.543938Z"
    }
   },
   "source": [
    "def buscar_serie_por_id(id: int):\n",
    "    url = f\"{BASE_URL}/series-id/{id}/\"\n",
    "    try:\n",
    "        resp = requests.get(url)\n",
    "        resp.raise_for_status()\n",
    "        return resp.json()\n",
    "    except requests.exceptions.RequestException as e:\n",
    "        return {\"erro\": str(e)}"
   ],
   "outputs": [],
   "execution_count": 181
  },
  {
   "metadata": {},
   "cell_type": "markdown",
   "source": "# 3. Criar nova série",
   "id": "e99b303981c49f29"
  },
  {
   "metadata": {
    "ExecuteTime": {
     "end_time": "2025-10-19T23:38:14.548463Z",
     "start_time": "2025-10-19T23:38:14.546416Z"
    }
   },
   "cell_type": "code",
   "source": [
    "def criar_serie(titulo, ordem, ano_estreia, episodios, classificacao_indicativa,\n",
    "                nota_imdb, link, popularidade, ano_encerramento=0):\n",
    "    url = f\"{BASE_URL}/series/\"\n",
    "    payload = {\n",
    "        \"titulo\": titulo,\n",
    "        \"ordem\": ordem,\n",
    "        \"ano_estreia\": ano_estreia,\n",
    "        \"ano_encerramento\":ano_encerramento,\n",
    "        \"episodios\": episodios,\n",
    "        \"classificacao_indicativa\": classificacao_indicativa,\n",
    "        \"nota_imdb\": nota_imdb,\n",
    "        \"link\": link,\n",
    "        \"popularidade\": popularidade\n",
    "    }\n",
    "    if ano_encerramento is not None:\n",
    "        payload[\"ano_encerramento\"] = ano_encerramento\n",
    "\n",
    "    try:\n",
    "        resp = requests.post(url, json=payload)\n",
    "        resp.raise_for_status()\n",
    "        return resp.json()\n",
    "    except requests.exceptions.RequestException as e:\n",
    "        return {\"erro\": str(e)}\n"
   ],
   "id": "b75a2bcb8e745b1c",
   "outputs": [],
   "execution_count": 182
  },
  {
   "metadata": {},
   "cell_type": "markdown",
   "source": "# 4. Atualizar série existente",
   "id": "dbc2178ccc95f840"
  },
  {
   "metadata": {
    "ExecuteTime": {
     "end_time": "2025-10-19T23:38:14.551216Z",
     "start_time": "2025-10-19T23:38:14.549517Z"
    }
   },
   "cell_type": "code",
   "source": [
    "def atualizar_serie(id: int, **dados):\n",
    "    url = f\"{BASE_URL}/series-id/{id}/\"\n",
    "    try:\n",
    "        resp = requests.put(url, json=dados)\n",
    "        resp.raise_for_status()\n",
    "        return resp.json()\n",
    "    except requests.exceptions.RequestException as e:\n",
    "        return {\"erro\": str(e)}"
   ],
   "id": "1d7e79b6949ce144",
   "outputs": [],
   "execution_count": 183
  },
  {
   "metadata": {},
   "cell_type": "markdown",
   "source": "# 5. Deletar série",
   "id": "8dec1199bad93fb0"
  },
  {
   "metadata": {
    "ExecuteTime": {
     "end_time": "2025-10-19T23:38:14.553226Z",
     "start_time": "2025-10-19T23:38:14.551672Z"
    }
   },
   "cell_type": "code",
   "source": [
    "def deletar_serie(id: int):\n",
    "    url = f\"{BASE_URL}/series-id/{id}/\"\n",
    "    try:\n",
    "        resp = requests.delete(url)\n",
    "        resp.raise_for_status()\n",
    "        return resp.json()\n",
    "    except requests.exceptions.RequestException as e:\n",
    "        return {\"erro\": str(e)}"
   ],
   "id": "22be4fe67cfffbe3",
   "outputs": [],
   "execution_count": 184
  },
  {
   "metadata": {},
   "cell_type": "markdown",
   "source": "# 6. Filtrar Séries\n",
   "id": "681824d288479d0"
  },
  {
   "cell_type": "code",
   "id": "179b7b19",
   "metadata": {
    "ExecuteTime": {
     "end_time": "2025-10-19T23:38:14.556377Z",
     "start_time": "2025-10-19T23:38:14.554173Z"
    }
   },
   "source": [
    "def listar_series_filtro(\n",
    "    id=None,\n",
    "    titulo=None,\n",
    "    ordem=None,\n",
    "    ano_estreia=None,\n",
    "    ano_encerramento=None,\n",
    "    episodios=None,\n",
    "    classificacao_indicativa=None,\n",
    "    nota_imdb=None,\n",
    "    link=None,\n",
    "    popularidade=None\n",
    "):\n",
    "    url = f\"{BASE_URL}/filtro\"\n",
    "    \n",
    "    payload = {\n",
    "        \"id\": id,\n",
    "        \"titulo\": titulo,\n",
    "        \"ordem\": ordem,\n",
    "        \"ano_estreia\": ano_estreia,\n",
    "        \"ano_encerramento\": ano_encerramento,\n",
    "        \"episodios\": episodios,\n",
    "        \"classificacao_indicativa\": classificacao_indicativa,\n",
    "        \"nota_imdb\": nota_imdb,\n",
    "        \"link\": link,\n",
    "        \"popularidade\": popularidade\n",
    "    }\n",
    "\n",
    "    payload = {k: v for k, v in payload.items() if v is not None}\n",
    "\n",
    "    try:\n",
    "        resposta = requests.post(url, json=payload)\n",
    "        resposta.raise_for_status()\n",
    "        return resposta.json()\n",
    "    except requests.exceptions.RequestException as e:\n",
    "        return {\"erro\": str(e)}\n"
   ],
   "outputs": [],
   "execution_count": 185
  },
  {
   "metadata": {},
   "cell_type": "markdown",
   "source": "# Testando Funcoes",
   "id": "ff59a14738e34799"
  },
  {
   "metadata": {},
   "cell_type": "markdown",
   "source": "## 1 Criar nova série",
   "id": "c31794c03906514e"
  },
  {
   "metadata": {
    "ExecuteTime": {
     "end_time": "2025-10-19T23:38:14.565115Z",
     "start_time": "2025-10-19T23:38:14.556904Z"
    }
   },
   "cell_type": "code",
   "source": [
    "nova = criar_serie(\n",
    "    titulo=\"Série Teste\",\n",
    "    ordem=1,\n",
    "    ano_estreia=2025,\n",
    "    episodios=62,\n",
    "    classificacao_indicativa=18,\n",
    "    nota_imdb=9.5,\n",
    "    link=\"Link Teste\",\n",
    "    popularidade=98.5\n",
    ")\n",
    "print(json.dumps(nova, indent=2, ensure_ascii=False))"
   ],
   "id": "23a919157c711b23",
   "outputs": [
    {
     "name": "stdout",
     "output_type": "stream",
     "text": [
      "{\n",
      "  \"id\": 251,\n",
      "  \"mensagem\": \"Série criada com sucesso\",\n",
      "  \"serie\": {\n",
      "    \"ano_encerramento\": 0,\n",
      "    \"ano_estreia\": 2025,\n",
      "    \"classificacao_indicativa\": 18,\n",
      "    \"episodios\": 62,\n",
      "    \"id\": 251,\n",
      "    \"link\": \"Link Teste\",\n",
      "    \"nota_imdb\": 9.5,\n",
      "    \"ordem\": 1,\n",
      "    \"popularidade\": 98.5,\n",
      "    \"titulo\": \"Série Teste\"\n",
      "  }\n",
      "}\n"
     ]
    }
   ],
   "execution_count": 186
  },
  {
   "metadata": {},
   "cell_type": "markdown",
   "source": "# 2 - Buscar série id",
   "id": "550d4e57ee1d81ec"
  },
  {
   "metadata": {
    "ExecuteTime": {
     "end_time": "2025-10-19T23:38:14.570131Z",
     "start_time": "2025-10-19T23:38:14.565635Z"
    }
   },
   "cell_type": "code",
   "source": [
    "serie = buscar_serie_por_id(251)\n",
    "print(json.dumps(serie, indent=2, ensure_ascii=False))"
   ],
   "id": "6f2576ec682ce046",
   "outputs": [
    {
     "name": "stdout",
     "output_type": "stream",
     "text": [
      "{\n",
      "  \"ano_encerramento\": 0,\n",
      "  \"ano_estreia\": 2025,\n",
      "  \"classificacao_indicativa\": 18,\n",
      "  \"episodios\": 62,\n",
      "  \"id\": 251,\n",
      "  \"link\": \"Link Teste\",\n",
      "  \"nota_imdb\": 9.5,\n",
      "  \"ordem\": 1,\n",
      "  \"popularidade\": 98.5,\n",
      "  \"titulo\": \"Série Teste\"\n",
      "}\n"
     ]
    }
   ],
   "execution_count": 187
  },
  {
   "metadata": {},
   "cell_type": "markdown",
   "source": "# 3 - Atualizar Série",
   "id": "64ab5b1a183d2577"
  },
  {
   "metadata": {
    "ExecuteTime": {
     "end_time": "2025-10-19T23:38:14.576011Z",
     "start_time": "2025-10-19T23:38:14.571102Z"
    }
   },
   "cell_type": "code",
   "source": [
    "atualizada = atualizar_serie(251, titulo='Serie Teste Atualizada')\n",
    "print(json.dumps(atualizada, indent=2, ensure_ascii=False))\n"
   ],
   "id": "c1f37dfcf96048f1",
   "outputs": [
    {
     "name": "stdout",
     "output_type": "stream",
     "text": [
      "{\n",
      "  \"mensagem\": \"Série atualizada com sucesso\",\n",
      "  \"serie\": {\n",
      "    \"ano_encerramento\": 0,\n",
      "    \"ano_estreia\": 2025,\n",
      "    \"classificacao_indicativa\": 18,\n",
      "    \"episodios\": 62,\n",
      "    \"id\": 251,\n",
      "    \"link\": \"Link Teste\",\n",
      "    \"nota_imdb\": 9.5,\n",
      "    \"ordem\": 1,\n",
      "    \"popularidade\": 98.5,\n",
      "    \"titulo\": \"Serie Teste Atualizada\"\n",
      "  }\n",
      "}\n"
     ]
    }
   ],
   "execution_count": 188
  },
  {
   "metadata": {},
   "cell_type": "markdown",
   "source": "# 4 - Listar N primeiras séries",
   "id": "acc2a89ff4f46132"
  },
  {
   "metadata": {
    "ExecuteTime": {
     "end_time": "2025-10-19T23:38:14.592639Z",
     "start_time": "2025-10-19T23:38:14.587688Z"
    }
   },
   "cell_type": "code",
   "source": [
    "N = 3\n",
    "lista = listar_series(N)\n",
    "print(json.dumps(lista, indent=2, ensure_ascii=False))"
   ],
   "id": "3e88aae65c030a3",
   "outputs": [
    {
     "name": "stdout",
     "output_type": "stream",
     "text": [
      "[\n",
      "  {\n",
      "    \"ano_encerramento\": 2013,\n",
      "    \"ano_estreia\": 2008,\n",
      "    \"classificacao_indicativa\": 16,\n",
      "    \"episodios\": 62,\n",
      "    \"id\": 1,\n",
      "    \"link\": \"https://www.imdb.com/pt/title/tt0903747/?ref_=chttvtp_i_1\",\n",
      "    \"nota_imdb\": 9.5,\n",
      "    \"ordem\": 1,\n",
      "    \"popularidade\": 18.0,\n",
      "    \"titulo\": \"Breaking Bad\"\n",
      "  },\n",
      "  {\n",
      "    \"ano_encerramento\": 0,\n",
      "    \"ano_estreia\": 2016,\n",
      "    \"classificacao_indicativa\": 10,\n",
      "    \"episodios\": 66,\n",
      "    \"id\": 2,\n",
      "    \"link\": \"https://www.imdb.com/pt/title/tt5491994/?ref_=chttvtp_i_2\",\n",
      "    \"nota_imdb\": 9.4,\n",
      "    \"ordem\": 2,\n",
      "    \"popularidade\": 597.0,\n",
      "    \"titulo\": \"Planeta Terra II\"\n",
      "  },\n",
      "  {\n",
      "    \"ano_encerramento\": 0,\n",
      "    \"ano_estreia\": 2006,\n",
      "    \"classificacao_indicativa\": 0,\n",
      "    \"episodios\": 11,\n",
      "    \"id\": 3,\n",
      "    \"link\": \"https://www.imdb.com/pt/title/tt0795176/?ref_=chttvtp_i_3\",\n",
      "    \"nota_imdb\": 9.4,\n",
      "    \"ordem\": 3,\n",
      "    \"popularidade\": 892.0,\n",
      "    \"titulo\": \"Planeta Terra\"\n",
      "  }\n",
      "]\n"
     ]
    }
   ],
   "execution_count": 189
  },
  {
   "metadata": {},
   "cell_type": "markdown",
   "source": "# 5 - Deletar série",
   "id": "8fa640c4225cad03"
  },
  {
   "metadata": {
    "ExecuteTime": {
     "end_time": "2025-10-19T23:38:14.598649Z",
     "start_time": "2025-10-19T23:38:14.593459Z"
    }
   },
   "cell_type": "code",
   "source": [
    "removida = deletar_serie(251)\n",
    "print(json.dumps(removida, indent=2, ensure_ascii=False))"
   ],
   "id": "d159fb14f80b461f",
   "outputs": [
    {
     "name": "stdout",
     "output_type": "stream",
     "text": [
      "{\n",
      "  \"mensagem\": \"Série com id 251 deletada com sucesso\"\n",
      "}\n"
     ]
    }
   ],
   "execution_count": 190
  },
  {
   "metadata": {},
   "cell_type": "markdown",
   "source": "# 6 -  Filtrar séries",
   "id": "b0a9edec57c41b43"
  },
  {
   "metadata": {
    "ExecuteTime": {
     "end_time": "2025-10-19T23:38:14.603160Z",
     "start_time": "2025-10-19T23:38:14.599413Z"
    }
   },
   "cell_type": "code",
   "source": [
    "filtrada = listar_series_filtro(ano_estreia=2008)\n",
    "print(json.dumps(filtrada, indent=2, ensure_ascii=False))\n"
   ],
   "id": "425e99a397f2d4a0",
   "outputs": [
    {
     "name": "stdout",
     "output_type": "stream",
     "text": [
      "[\n",
      "  {\n",
      "    \"ano_encerramento\": 2013.0,\n",
      "    \"ano_estreia\": 2008,\n",
      "    \"atores\": \"-\",\n",
      "    \"classificacao_indicativa\": 16,\n",
      "    \"episodios\": 62,\n",
      "    \"id\": 1,\n",
      "    \"link\": \"https://www.imdb.com/pt/title/tt0903747/?ref_=chttvtp_i_1\",\n",
      "    \"nota_imdb\": 9.5,\n",
      "    \"ordem\": 1,\n",
      "    \"popularidade\": 18.0,\n",
      "    \"titulo\": \"Breaking Bad\"\n",
      "  },\n",
      "  {\n",
      "    \"ano_encerramento\": 2014.0,\n",
      "    \"ano_estreia\": 2008,\n",
      "    \"atores\": \"-\",\n",
      "    \"classificacao_indicativa\": 16,\n",
      "    \"episodios\": 92,\n",
      "    \"id\": 218,\n",
      "    \"link\": \"https://www.imdb.com/pt/title/tt1124373/?ref_=chttvtp_i_218\",\n",
      "    \"nota_imdb\": 8.5,\n",
      "    \"ordem\": 218,\n",
      "    \"popularidade\": 141.0,\n",
      "    \"titulo\": \"Filhos da Anarquia\"\n",
      "  }\n",
      "]\n"
     ]
    }
   ],
   "execution_count": 191
  },
  {
   "metadata": {
    "ExecuteTime": {
     "end_time": "2025-10-19T23:38:14.605032Z",
     "start_time": "2025-10-19T23:38:14.603765Z"
    }
   },
   "cell_type": "code",
   "source": "",
   "id": "fac56bf20334563b",
   "outputs": [],
   "execution_count": 191
  }
 ],
 "metadata": {
  "kernelspec": {
   "display_name": "dev",
   "language": "python",
   "name": "python3"
  },
  "language_info": {
   "name": "python",
   "version": "3.13.5"
  }
 },
 "nbformat": 4,
 "nbformat_minor": 5
}
